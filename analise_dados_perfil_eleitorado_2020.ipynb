{
  "cells": [
    {
      "cell_type": "markdown",
      "source": [
        "# **Desafio Técnico - Estágio em Dados**\n"
      ],
      "metadata": {
        "id": "fdLC9iQB6Vy4"
      }
    },
    {
      "cell_type": "markdown",
      "source": [
        "# Análise da Base de dados perfil_eleitorado_2020"
      ],
      "metadata": {
        "id": "JhklrrpgFKF5"
      }
    },
    {
      "cell_type": "code",
      "source": [
        "from google.colab import drive\n",
        "drive.mount('/content/drive')"
      ],
      "metadata": {
        "id": "FuIz9PwT8aFO",
        "outputId": "b2ab2ab4-7f6f-4160-da0b-b477dc7a4f05",
        "colab": {
          "base_uri": "https://localhost:8080/"
        }
      },
      "execution_count": 2,
      "outputs": [
        {
          "output_type": "stream",
          "name": "stdout",
          "text": [
            "Mounted at /content/drive\n"
          ]
        }
      ]
    },
    {
      "cell_type": "markdown",
      "source": [
        "## Bibliotecas importadas"
      ],
      "metadata": {
        "id": "5AuYKosRFHhN"
      }
    },
    {
      "cell_type": "code",
      "source": [
        "import pandas as pd\n",
        "import numpy as np"
      ],
      "metadata": {
        "id": "VUjysVNG84MS"
      },
      "execution_count": 57,
      "outputs": []
    },
    {
      "cell_type": "markdown",
      "source": [
        "## Carregando os dados do arquivo *perfil_eleitorado_2020.csv*"
      ],
      "metadata": {
        "id": "uk61oI3uAaS2"
      }
    },
    {
      "cell_type": "code",
      "source": [
        "filepath = \"/content/drive/MyDrive/Colab Notebooks/renovabr/eleitorado/perfil_eleitorado_2020/perfil_eleitorado_2020.csv\"\n",
        "df = pd.read_csv(filepath, sep=\";\", encoding='latin-1')"
      ],
      "metadata": {
        "id": "oWUPGL129GMB"
      },
      "execution_count": 4,
      "outputs": []
    },
    {
      "cell_type": "code",
      "source": [
        "df.info()"
      ],
      "metadata": {
        "id": "GUi6uu6M_qJU",
        "outputId": "7f2feee2-d304-4f5f-9d4b-05c8d9859f2c",
        "colab": {
          "base_uri": "https://localhost:8080/"
        }
      },
      "execution_count": 5,
      "outputs": [
        {
          "output_type": "stream",
          "name": "stdout",
          "text": [
            "<class 'pandas.core.frame.DataFrame'>\n",
            "RangeIndex: 4248507 entries, 0 to 4248506\n",
            "Data columns (total 21 columns):\n",
            " #   Column                      Dtype \n",
            "---  ------                      ----- \n",
            " 0   DT_GERACAO                  object\n",
            " 1   HH_GERACAO                  object\n",
            " 2   ANO_ELEICAO                 int64 \n",
            " 3   SG_UF                       object\n",
            " 4   CD_MUNICIPIO                int64 \n",
            " 5   NM_MUNICIPIO                object\n",
            " 6   CD_MUN_SIT_BIOMETRIA        int64 \n",
            " 7   DS_MUN_SIT_BIOMETRIA        object\n",
            " 8   NR_ZONA                     int64 \n",
            " 9   CD_GENERO                   int64 \n",
            " 10  DS_GENERO                   object\n",
            " 11  CD_ESTADO_CIVIL             int64 \n",
            " 12  DS_ESTADO_CIVIL             object\n",
            " 13  CD_FAIXA_ETARIA             int64 \n",
            " 14  DS_FAIXA_ETARIA             object\n",
            " 15  CD_GRAU_ESCOLARIDADE        int64 \n",
            " 16  DS_GRAU_ESCOLARIDADE        object\n",
            " 17  QT_ELEITORES_PERFIL         int64 \n",
            " 18  QT_ELEITORES_BIOMETRIA      int64 \n",
            " 19  QT_ELEITORES_DEFICIENCIA    int64 \n",
            " 20  QT_ELEITORES_INC_NM_SOCIAL  int64 \n",
            "dtypes: int64(12), object(9)\n",
            "memory usage: 680.7+ MB\n"
          ]
        }
      ]
    },
    {
      "cell_type": "markdown",
      "source": [],
      "metadata": {
        "id": "jely-K7C71tl"
      }
    },
    {
      "cell_type": "code",
      "source": [
        "# pd.get_option(\"display.max_columns\")\n",
        "pd.set_option(\"display.max_columns\", 21)\n",
        "\n",
        "# pd.get_option(\"display.max_rows\")\n",
        "pd.set_option(\"display.max_rows\", 30)"
      ],
      "metadata": {
        "id": "JUi2b9La73U6"
      },
      "execution_count": 40,
      "outputs": []
    },
    {
      "cell_type": "code",
      "source": [
        "df.head(10)"
      ],
      "metadata": {
        "id": "KxacgYrw_xgz",
        "outputId": "21dafe59-4be7-4d7a-fa8d-2ca06ac94bec",
        "colab": {
          "base_uri": "https://localhost:8080/",
          "height": 601
        }
      },
      "execution_count": 42,
      "outputs": [
        {
          "output_type": "execute_result",
          "data": {
            "text/plain": [
              "   DT_GERACAO HH_GERACAO  ANO_ELEICAO SG_UF  CD_MUNICIPIO  \\\n",
              "0  01/08/2020   08:37:48         2020    SP         70734   \n",
              "1  01/08/2020   08:37:48         2020    SP         70734   \n",
              "2  01/08/2020   08:37:48         2020    SP         70734   \n",
              "3  01/08/2020   08:37:48         2020    SP         70734   \n",
              "4  01/08/2020   08:37:48         2020    SP         70734   \n",
              "5  01/08/2020   08:37:48         2020    SP         70734   \n",
              "6  01/08/2020   08:37:48         2020    SP         70734   \n",
              "7  01/08/2020   08:37:48         2020    SP         70734   \n",
              "8  01/08/2020   08:37:48         2020    SP         70734   \n",
              "9  01/08/2020   08:37:48         2020    SP         70734   \n",
              "\n",
              "           NM_MUNICIPIO  CD_MUN_SIT_BIOMETRIA DS_MUN_SIT_BIOMETRIA  NR_ZONA  \\\n",
              "0  SÃO BENTO DO SAPUCAÍ                     0        Sem biometria      314   \n",
              "1  SÃO BENTO DO SAPUCAÍ                     0        Sem biometria      314   \n",
              "2  SÃO BENTO DO SAPUCAÍ                     0        Sem biometria      314   \n",
              "3  SÃO BENTO DO SAPUCAÍ                     0        Sem biometria      314   \n",
              "4  SÃO BENTO DO SAPUCAÍ                     0        Sem biometria      314   \n",
              "5  SÃO BENTO DO SAPUCAÍ                     0        Sem biometria      314   \n",
              "6  SÃO BENTO DO SAPUCAÍ                     0        Sem biometria      314   \n",
              "7  SÃO BENTO DO SAPUCAÍ                     0        Sem biometria      314   \n",
              "8  SÃO BENTO DO SAPUCAÍ                     0        Sem biometria      314   \n",
              "9  SÃO BENTO DO SAPUCAÍ                     0        Sem biometria      314   \n",
              "\n",
              "   CD_GENERO DS_GENERO  CD_ESTADO_CIVIL DS_ESTADO_CIVIL  CD_FAIXA_ETARIA  \\\n",
              "0          4  FEMININO                3          CASADO             7074   \n",
              "1          4  FEMININO                3          CASADO             7074   \n",
              "2          4  FEMININO                3          CASADO             7074   \n",
              "3          4  FEMININO                3          CASADO             7074   \n",
              "4          4  FEMININO                3          CASADO             7074   \n",
              "5          4  FEMININO                3          CASADO             7579   \n",
              "6          4  FEMININO                3          CASADO             7579   \n",
              "7          4  FEMININO                3          CASADO             7579   \n",
              "8          4  FEMININO                3          CASADO             7579   \n",
              "9          4  FEMININO                3          CASADO             7579   \n",
              "\n",
              "                  DS_FAIXA_ETARIA  CD_GRAU_ESCOLARIDADE  \\\n",
              "0  70 a 74 anos                                       3   \n",
              "1  70 a 74 anos                                       4   \n",
              "2  70 a 74 anos                                       5   \n",
              "3  70 a 74 anos                                       6   \n",
              "4  70 a 74 anos                                       8   \n",
              "5  75 a 79 anos                                       1   \n",
              "6  75 a 79 anos                                       2   \n",
              "7  75 a 79 anos                                       3   \n",
              "8  75 a 79 anos                                       4   \n",
              "9  75 a 79 anos                                       5   \n",
              "\n",
              "            DS_GRAU_ESCOLARIDADE  QT_ELEITORES_PERFIL  QT_ELEITORES_BIOMETRIA  \\\n",
              "0  ENSINO FUNDAMENTAL INCOMPLETO                   47                      37   \n",
              "1    ENSINO FUNDAMENTAL COMPLETO                    5                       4   \n",
              "2        ENSINO MÉDIO INCOMPLETO                    1                       1   \n",
              "3          ENSINO MÉDIO COMPLETO                   10                       8   \n",
              "4              SUPERIOR COMPLETO                   23                      18   \n",
              "5                     ANALFABETO                   12                       7   \n",
              "6                   LÊ E ESCREVE                   20                      14   \n",
              "7  ENSINO FUNDAMENTAL INCOMPLETO                   31                      18   \n",
              "8    ENSINO FUNDAMENTAL COMPLETO                    8                       7   \n",
              "9        ENSINO MÉDIO INCOMPLETO                    2                       1   \n",
              "\n",
              "   QT_ELEITORES_DEFICIENCIA  QT_ELEITORES_INC_NM_SOCIAL  \n",
              "0                         1                           0  \n",
              "1                         0                           0  \n",
              "2                         0                           0  \n",
              "3                         0                           0  \n",
              "4                         0                           0  \n",
              "5                         1                           0  \n",
              "6                         2                           0  \n",
              "7                         1                           0  \n",
              "8                         0                           0  \n",
              "9                         0                           0  "
            ],
            "text/html": [
              "\n",
              "\n",
              "  <div id=\"df-0c9611c2-44ab-4fe3-8291-b42a139bdaaf\">\n",
              "    <div class=\"colab-df-container\">\n",
              "      <div>\n",
              "<style scoped>\n",
              "    .dataframe tbody tr th:only-of-type {\n",
              "        vertical-align: middle;\n",
              "    }\n",
              "\n",
              "    .dataframe tbody tr th {\n",
              "        vertical-align: top;\n",
              "    }\n",
              "\n",
              "    .dataframe thead th {\n",
              "        text-align: right;\n",
              "    }\n",
              "</style>\n",
              "<table border=\"1\" class=\"dataframe\">\n",
              "  <thead>\n",
              "    <tr style=\"text-align: right;\">\n",
              "      <th></th>\n",
              "      <th>DT_GERACAO</th>\n",
              "      <th>HH_GERACAO</th>\n",
              "      <th>ANO_ELEICAO</th>\n",
              "      <th>SG_UF</th>\n",
              "      <th>CD_MUNICIPIO</th>\n",
              "      <th>NM_MUNICIPIO</th>\n",
              "      <th>CD_MUN_SIT_BIOMETRIA</th>\n",
              "      <th>DS_MUN_SIT_BIOMETRIA</th>\n",
              "      <th>NR_ZONA</th>\n",
              "      <th>CD_GENERO</th>\n",
              "      <th>DS_GENERO</th>\n",
              "      <th>CD_ESTADO_CIVIL</th>\n",
              "      <th>DS_ESTADO_CIVIL</th>\n",
              "      <th>CD_FAIXA_ETARIA</th>\n",
              "      <th>DS_FAIXA_ETARIA</th>\n",
              "      <th>CD_GRAU_ESCOLARIDADE</th>\n",
              "      <th>DS_GRAU_ESCOLARIDADE</th>\n",
              "      <th>QT_ELEITORES_PERFIL</th>\n",
              "      <th>QT_ELEITORES_BIOMETRIA</th>\n",
              "      <th>QT_ELEITORES_DEFICIENCIA</th>\n",
              "      <th>QT_ELEITORES_INC_NM_SOCIAL</th>\n",
              "    </tr>\n",
              "  </thead>\n",
              "  <tbody>\n",
              "    <tr>\n",
              "      <th>0</th>\n",
              "      <td>01/08/2020</td>\n",
              "      <td>08:37:48</td>\n",
              "      <td>2020</td>\n",
              "      <td>SP</td>\n",
              "      <td>70734</td>\n",
              "      <td>SÃO BENTO DO SAPUCAÍ</td>\n",
              "      <td>0</td>\n",
              "      <td>Sem biometria</td>\n",
              "      <td>314</td>\n",
              "      <td>4</td>\n",
              "      <td>FEMININO</td>\n",
              "      <td>3</td>\n",
              "      <td>CASADO</td>\n",
              "      <td>7074</td>\n",
              "      <td>70 a 74 anos</td>\n",
              "      <td>3</td>\n",
              "      <td>ENSINO FUNDAMENTAL INCOMPLETO</td>\n",
              "      <td>47</td>\n",
              "      <td>37</td>\n",
              "      <td>1</td>\n",
              "      <td>0</td>\n",
              "    </tr>\n",
              "    <tr>\n",
              "      <th>1</th>\n",
              "      <td>01/08/2020</td>\n",
              "      <td>08:37:48</td>\n",
              "      <td>2020</td>\n",
              "      <td>SP</td>\n",
              "      <td>70734</td>\n",
              "      <td>SÃO BENTO DO SAPUCAÍ</td>\n",
              "      <td>0</td>\n",
              "      <td>Sem biometria</td>\n",
              "      <td>314</td>\n",
              "      <td>4</td>\n",
              "      <td>FEMININO</td>\n",
              "      <td>3</td>\n",
              "      <td>CASADO</td>\n",
              "      <td>7074</td>\n",
              "      <td>70 a 74 anos</td>\n",
              "      <td>4</td>\n",
              "      <td>ENSINO FUNDAMENTAL COMPLETO</td>\n",
              "      <td>5</td>\n",
              "      <td>4</td>\n",
              "      <td>0</td>\n",
              "      <td>0</td>\n",
              "    </tr>\n",
              "    <tr>\n",
              "      <th>2</th>\n",
              "      <td>01/08/2020</td>\n",
              "      <td>08:37:48</td>\n",
              "      <td>2020</td>\n",
              "      <td>SP</td>\n",
              "      <td>70734</td>\n",
              "      <td>SÃO BENTO DO SAPUCAÍ</td>\n",
              "      <td>0</td>\n",
              "      <td>Sem biometria</td>\n",
              "      <td>314</td>\n",
              "      <td>4</td>\n",
              "      <td>FEMININO</td>\n",
              "      <td>3</td>\n",
              "      <td>CASADO</td>\n",
              "      <td>7074</td>\n",
              "      <td>70 a 74 anos</td>\n",
              "      <td>5</td>\n",
              "      <td>ENSINO MÉDIO INCOMPLETO</td>\n",
              "      <td>1</td>\n",
              "      <td>1</td>\n",
              "      <td>0</td>\n",
              "      <td>0</td>\n",
              "    </tr>\n",
              "    <tr>\n",
              "      <th>3</th>\n",
              "      <td>01/08/2020</td>\n",
              "      <td>08:37:48</td>\n",
              "      <td>2020</td>\n",
              "      <td>SP</td>\n",
              "      <td>70734</td>\n",
              "      <td>SÃO BENTO DO SAPUCAÍ</td>\n",
              "      <td>0</td>\n",
              "      <td>Sem biometria</td>\n",
              "      <td>314</td>\n",
              "      <td>4</td>\n",
              "      <td>FEMININO</td>\n",
              "      <td>3</td>\n",
              "      <td>CASADO</td>\n",
              "      <td>7074</td>\n",
              "      <td>70 a 74 anos</td>\n",
              "      <td>6</td>\n",
              "      <td>ENSINO MÉDIO COMPLETO</td>\n",
              "      <td>10</td>\n",
              "      <td>8</td>\n",
              "      <td>0</td>\n",
              "      <td>0</td>\n",
              "    </tr>\n",
              "    <tr>\n",
              "      <th>4</th>\n",
              "      <td>01/08/2020</td>\n",
              "      <td>08:37:48</td>\n",
              "      <td>2020</td>\n",
              "      <td>SP</td>\n",
              "      <td>70734</td>\n",
              "      <td>SÃO BENTO DO SAPUCAÍ</td>\n",
              "      <td>0</td>\n",
              "      <td>Sem biometria</td>\n",
              "      <td>314</td>\n",
              "      <td>4</td>\n",
              "      <td>FEMININO</td>\n",
              "      <td>3</td>\n",
              "      <td>CASADO</td>\n",
              "      <td>7074</td>\n",
              "      <td>70 a 74 anos</td>\n",
              "      <td>8</td>\n",
              "      <td>SUPERIOR COMPLETO</td>\n",
              "      <td>23</td>\n",
              "      <td>18</td>\n",
              "      <td>0</td>\n",
              "      <td>0</td>\n",
              "    </tr>\n",
              "    <tr>\n",
              "      <th>5</th>\n",
              "      <td>01/08/2020</td>\n",
              "      <td>08:37:48</td>\n",
              "      <td>2020</td>\n",
              "      <td>SP</td>\n",
              "      <td>70734</td>\n",
              "      <td>SÃO BENTO DO SAPUCAÍ</td>\n",
              "      <td>0</td>\n",
              "      <td>Sem biometria</td>\n",
              "      <td>314</td>\n",
              "      <td>4</td>\n",
              "      <td>FEMININO</td>\n",
              "      <td>3</td>\n",
              "      <td>CASADO</td>\n",
              "      <td>7579</td>\n",
              "      <td>75 a 79 anos</td>\n",
              "      <td>1</td>\n",
              "      <td>ANALFABETO</td>\n",
              "      <td>12</td>\n",
              "      <td>7</td>\n",
              "      <td>1</td>\n",
              "      <td>0</td>\n",
              "    </tr>\n",
              "    <tr>\n",
              "      <th>6</th>\n",
              "      <td>01/08/2020</td>\n",
              "      <td>08:37:48</td>\n",
              "      <td>2020</td>\n",
              "      <td>SP</td>\n",
              "      <td>70734</td>\n",
              "      <td>SÃO BENTO DO SAPUCAÍ</td>\n",
              "      <td>0</td>\n",
              "      <td>Sem biometria</td>\n",
              "      <td>314</td>\n",
              "      <td>4</td>\n",
              "      <td>FEMININO</td>\n",
              "      <td>3</td>\n",
              "      <td>CASADO</td>\n",
              "      <td>7579</td>\n",
              "      <td>75 a 79 anos</td>\n",
              "      <td>2</td>\n",
              "      <td>LÊ E ESCREVE</td>\n",
              "      <td>20</td>\n",
              "      <td>14</td>\n",
              "      <td>2</td>\n",
              "      <td>0</td>\n",
              "    </tr>\n",
              "    <tr>\n",
              "      <th>7</th>\n",
              "      <td>01/08/2020</td>\n",
              "      <td>08:37:48</td>\n",
              "      <td>2020</td>\n",
              "      <td>SP</td>\n",
              "      <td>70734</td>\n",
              "      <td>SÃO BENTO DO SAPUCAÍ</td>\n",
              "      <td>0</td>\n",
              "      <td>Sem biometria</td>\n",
              "      <td>314</td>\n",
              "      <td>4</td>\n",
              "      <td>FEMININO</td>\n",
              "      <td>3</td>\n",
              "      <td>CASADO</td>\n",
              "      <td>7579</td>\n",
              "      <td>75 a 79 anos</td>\n",
              "      <td>3</td>\n",
              "      <td>ENSINO FUNDAMENTAL INCOMPLETO</td>\n",
              "      <td>31</td>\n",
              "      <td>18</td>\n",
              "      <td>1</td>\n",
              "      <td>0</td>\n",
              "    </tr>\n",
              "    <tr>\n",
              "      <th>8</th>\n",
              "      <td>01/08/2020</td>\n",
              "      <td>08:37:48</td>\n",
              "      <td>2020</td>\n",
              "      <td>SP</td>\n",
              "      <td>70734</td>\n",
              "      <td>SÃO BENTO DO SAPUCAÍ</td>\n",
              "      <td>0</td>\n",
              "      <td>Sem biometria</td>\n",
              "      <td>314</td>\n",
              "      <td>4</td>\n",
              "      <td>FEMININO</td>\n",
              "      <td>3</td>\n",
              "      <td>CASADO</td>\n",
              "      <td>7579</td>\n",
              "      <td>75 a 79 anos</td>\n",
              "      <td>4</td>\n",
              "      <td>ENSINO FUNDAMENTAL COMPLETO</td>\n",
              "      <td>8</td>\n",
              "      <td>7</td>\n",
              "      <td>0</td>\n",
              "      <td>0</td>\n",
              "    </tr>\n",
              "    <tr>\n",
              "      <th>9</th>\n",
              "      <td>01/08/2020</td>\n",
              "      <td>08:37:48</td>\n",
              "      <td>2020</td>\n",
              "      <td>SP</td>\n",
              "      <td>70734</td>\n",
              "      <td>SÃO BENTO DO SAPUCAÍ</td>\n",
              "      <td>0</td>\n",
              "      <td>Sem biometria</td>\n",
              "      <td>314</td>\n",
              "      <td>4</td>\n",
              "      <td>FEMININO</td>\n",
              "      <td>3</td>\n",
              "      <td>CASADO</td>\n",
              "      <td>7579</td>\n",
              "      <td>75 a 79 anos</td>\n",
              "      <td>5</td>\n",
              "      <td>ENSINO MÉDIO INCOMPLETO</td>\n",
              "      <td>2</td>\n",
              "      <td>1</td>\n",
              "      <td>0</td>\n",
              "      <td>0</td>\n",
              "    </tr>\n",
              "  </tbody>\n",
              "</table>\n",
              "</div>\n",
              "      <button class=\"colab-df-convert\" onclick=\"convertToInteractive('df-0c9611c2-44ab-4fe3-8291-b42a139bdaaf')\"\n",
              "              title=\"Convert this dataframe to an interactive table.\"\n",
              "              style=\"display:none;\">\n",
              "\n",
              "  <svg xmlns=\"http://www.w3.org/2000/svg\" height=\"24px\"viewBox=\"0 0 24 24\"\n",
              "       width=\"24px\">\n",
              "    <path d=\"M0 0h24v24H0V0z\" fill=\"none\"/>\n",
              "    <path d=\"M18.56 5.44l.94 2.06.94-2.06 2.06-.94-2.06-.94-.94-2.06-.94 2.06-2.06.94zm-11 1L8.5 8.5l.94-2.06 2.06-.94-2.06-.94L8.5 2.5l-.94 2.06-2.06.94zm10 10l.94 2.06.94-2.06 2.06-.94-2.06-.94-.94-2.06-.94 2.06-2.06.94z\"/><path d=\"M17.41 7.96l-1.37-1.37c-.4-.4-.92-.59-1.43-.59-.52 0-1.04.2-1.43.59L10.3 9.45l-7.72 7.72c-.78.78-.78 2.05 0 2.83L4 21.41c.39.39.9.59 1.41.59.51 0 1.02-.2 1.41-.59l7.78-7.78 2.81-2.81c.8-.78.8-2.07 0-2.86zM5.41 20L4 18.59l7.72-7.72 1.47 1.35L5.41 20z\"/>\n",
              "  </svg>\n",
              "      </button>\n",
              "\n",
              "\n",
              "\n",
              "    <div id=\"df-2d7f1cb5-bbd2-44e9-9d04-1f8b57dc6abd\">\n",
              "      <button class=\"colab-df-quickchart\" onclick=\"quickchart('df-2d7f1cb5-bbd2-44e9-9d04-1f8b57dc6abd')\"\n",
              "              title=\"Suggest charts.\"\n",
              "              style=\"display:none;\">\n",
              "\n",
              "<svg xmlns=\"http://www.w3.org/2000/svg\" height=\"24px\"viewBox=\"0 0 24 24\"\n",
              "     width=\"24px\">\n",
              "    <g>\n",
              "        <path d=\"M19 3H5c-1.1 0-2 .9-2 2v14c0 1.1.9 2 2 2h14c1.1 0 2-.9 2-2V5c0-1.1-.9-2-2-2zM9 17H7v-7h2v7zm4 0h-2V7h2v10zm4 0h-2v-4h2v4z\"/>\n",
              "    </g>\n",
              "</svg>\n",
              "      </button>\n",
              "    </div>\n",
              "\n",
              "<style>\n",
              "  .colab-df-quickchart {\n",
              "    background-color: #E8F0FE;\n",
              "    border: none;\n",
              "    border-radius: 50%;\n",
              "    cursor: pointer;\n",
              "    display: none;\n",
              "    fill: #1967D2;\n",
              "    height: 32px;\n",
              "    padding: 0 0 0 0;\n",
              "    width: 32px;\n",
              "  }\n",
              "\n",
              "  .colab-df-quickchart:hover {\n",
              "    background-color: #E2EBFA;\n",
              "    box-shadow: 0px 1px 2px rgba(60, 64, 67, 0.3), 0px 1px 3px 1px rgba(60, 64, 67, 0.15);\n",
              "    fill: #174EA6;\n",
              "  }\n",
              "\n",
              "  [theme=dark] .colab-df-quickchart {\n",
              "    background-color: #3B4455;\n",
              "    fill: #D2E3FC;\n",
              "  }\n",
              "\n",
              "  [theme=dark] .colab-df-quickchart:hover {\n",
              "    background-color: #434B5C;\n",
              "    box-shadow: 0px 1px 3px 1px rgba(0, 0, 0, 0.15);\n",
              "    filter: drop-shadow(0px 1px 2px rgba(0, 0, 0, 0.3));\n",
              "    fill: #FFFFFF;\n",
              "  }\n",
              "</style>\n",
              "\n",
              "    <script>\n",
              "      async function quickchart(key) {\n",
              "        const containerElement = document.querySelector('#' + key);\n",
              "        const charts = await google.colab.kernel.invokeFunction(\n",
              "            'suggestCharts', [key], {});\n",
              "      }\n",
              "    </script>\n",
              "\n",
              "\n",
              "      <script>\n",
              "\n",
              "function displayQuickchartButton(domScope) {\n",
              "  let quickchartButtonEl =\n",
              "    domScope.querySelector('#df-2d7f1cb5-bbd2-44e9-9d04-1f8b57dc6abd button.colab-df-quickchart');\n",
              "  quickchartButtonEl.style.display =\n",
              "    google.colab.kernel.accessAllowed ? 'block' : 'none';\n",
              "}\n",
              "\n",
              "        displayQuickchartButton(document);\n",
              "      </script>\n",
              "      <style>\n",
              "    .colab-df-container {\n",
              "      display:flex;\n",
              "      flex-wrap:wrap;\n",
              "      gap: 12px;\n",
              "    }\n",
              "\n",
              "    .colab-df-convert {\n",
              "      background-color: #E8F0FE;\n",
              "      border: none;\n",
              "      border-radius: 50%;\n",
              "      cursor: pointer;\n",
              "      display: none;\n",
              "      fill: #1967D2;\n",
              "      height: 32px;\n",
              "      padding: 0 0 0 0;\n",
              "      width: 32px;\n",
              "    }\n",
              "\n",
              "    .colab-df-convert:hover {\n",
              "      background-color: #E2EBFA;\n",
              "      box-shadow: 0px 1px 2px rgba(60, 64, 67, 0.3), 0px 1px 3px 1px rgba(60, 64, 67, 0.15);\n",
              "      fill: #174EA6;\n",
              "    }\n",
              "\n",
              "    [theme=dark] .colab-df-convert {\n",
              "      background-color: #3B4455;\n",
              "      fill: #D2E3FC;\n",
              "    }\n",
              "\n",
              "    [theme=dark] .colab-df-convert:hover {\n",
              "      background-color: #434B5C;\n",
              "      box-shadow: 0px 1px 3px 1px rgba(0, 0, 0, 0.15);\n",
              "      filter: drop-shadow(0px 1px 2px rgba(0, 0, 0, 0.3));\n",
              "      fill: #FFFFFF;\n",
              "    }\n",
              "  </style>\n",
              "\n",
              "      <script>\n",
              "        const buttonEl =\n",
              "          document.querySelector('#df-0c9611c2-44ab-4fe3-8291-b42a139bdaaf button.colab-df-convert');\n",
              "        buttonEl.style.display =\n",
              "          google.colab.kernel.accessAllowed ? 'block' : 'none';\n",
              "\n",
              "        async function convertToInteractive(key) {\n",
              "          const element = document.querySelector('#df-0c9611c2-44ab-4fe3-8291-b42a139bdaaf');\n",
              "          const dataTable =\n",
              "            await google.colab.kernel.invokeFunction('convertToInteractive',\n",
              "                                                     [key], {});\n",
              "          if (!dataTable) return;\n",
              "\n",
              "          const docLinkHtml = 'Like what you see? Visit the ' +\n",
              "            '<a target=\"_blank\" href=https://colab.research.google.com/notebooks/data_table.ipynb>data table notebook</a>'\n",
              "            + ' to learn more about interactive tables.';\n",
              "          element.innerHTML = '';\n",
              "          dataTable['output_type'] = 'display_data';\n",
              "          await google.colab.output.renderOutput(dataTable, element);\n",
              "          const docLink = document.createElement('div');\n",
              "          docLink.innerHTML = docLinkHtml;\n",
              "          element.appendChild(docLink);\n",
              "        }\n",
              "      </script>\n",
              "    </div>\n",
              "  </div>\n"
            ]
          },
          "metadata": {},
          "execution_count": 42
        }
      ]
    },
    {
      "cell_type": "markdown",
      "source": [
        "### Dimensões do DataFrame\n",
        "\n"
      ],
      "metadata": {
        "id": "WeBiAlcnCl0J"
      }
    },
    {
      "cell_type": "code",
      "source": [
        "df.shape"
      ],
      "metadata": {
        "colab": {
          "base_uri": "https://localhost:8080/"
        },
        "id": "n4SmOk2ACWON",
        "outputId": "7e403397-f66f-49e3-e07e-333a6aae1486"
      },
      "execution_count": 7,
      "outputs": [
        {
          "output_type": "execute_result",
          "data": {
            "text/plain": [
              "(4248507, 21)"
            ]
          },
          "metadata": {},
          "execution_count": 7
        }
      ]
    },
    {
      "cell_type": "code",
      "source": [
        "df.HH_GERACAO.unique()"
      ],
      "metadata": {
        "id": "B6r6zhVxEhKS",
        "colab": {
          "base_uri": "https://localhost:8080/"
        },
        "outputId": "d7286437-764e-4707-80aa-1e34d426967f"
      },
      "execution_count": 8,
      "outputs": [
        {
          "output_type": "execute_result",
          "data": {
            "text/plain": [
              "array(['08:37:48'], dtype=object)"
            ]
          },
          "metadata": {},
          "execution_count": 8
        }
      ]
    },
    {
      "cell_type": "code",
      "source": [
        "df.SG_UF.unique()"
      ],
      "metadata": {
        "colab": {
          "base_uri": "https://localhost:8080/"
        },
        "id": "k5kXxPsg87Z3",
        "outputId": "c732ebb5-ea90-480f-a0d9-9601ca59ba11"
      },
      "execution_count": 22,
      "outputs": [
        {
          "output_type": "execute_result",
          "data": {
            "text/plain": [
              "array(['SP', 'BA', 'MS', 'MG', 'PR', 'MA', 'GO', 'AL', 'MT', 'PB', 'TO',\n",
              "       'PA', 'PE', 'PI', 'ES', 'CE', 'RJ', 'RS', 'SC', 'RO', 'RN', 'SE',\n",
              "       'RR', 'AC', 'AM', 'AP'], dtype=object)"
            ]
          },
          "metadata": {},
          "execution_count": 22
        }
      ]
    },
    {
      "cell_type": "markdown",
      "source": [
        "### Verificando registros Brancos ou Nulos da base\n",
        "\n"
      ],
      "metadata": {
        "id": "Qyk6v6IU97vv"
      }
    },
    {
      "cell_type": "code",
      "source": [
        "print(df[\"CD_FAIXA_ETARIA\"][df[\"CD_FAIXA_ETARIA\"].apply(lambda x: x==\"#NULO\")].sum())\n",
        "print(df[\"CD_FAIXA_ETARIA\"][df[\"CD_FAIXA_ETARIA\"].apply(lambda x: x==\"NULO\")].sum())\n",
        "print(df[\"CD_FAIXA_ETARIA\"][df[\"CD_FAIXA_ETARIA\"].apply(lambda x: x==-1)].sum())\n",
        "print(df[\"CD_FAIXA_ETARIA\"][df[\"CD_FAIXA_ETARIA\"].apply(lambda x: x==-3)].sum())"
      ],
      "metadata": {
        "colab": {
          "base_uri": "https://localhost:8080/"
        },
        "id": "aee0BEUeKhgB",
        "outputId": "8d8accd5-c6d4-4d10-b072-7dd5db86cca6"
      },
      "execution_count": 83,
      "outputs": [
        {
          "output_type": "stream",
          "name": "stdout",
          "text": [
            "0\n",
            "0\n",
            "0\n",
            "-6300\n"
          ]
        }
      ]
    },
    {
      "cell_type": "markdown",
      "source": [
        "A base de dados não possui valores faltantes ou em branco."
      ],
      "metadata": {
        "id": "3bLXoRuMAQXF"
      }
    },
    {
      "cell_type": "markdown",
      "source": [
        "## Verificando cada uma das colunas da base, para isso será usado o método unique() que permite verificar os valores únicos.\n"
      ],
      "metadata": {
        "id": "7MZLSBSNA8hk"
      }
    },
    {
      "cell_type": "code",
      "source": [
        "for n_coluna in df.columns:\n",
        "  print(f\"{n_coluna}\")\n",
        "  print(f\"{df[n_coluna].unique()} \\n\\n\")"
      ],
      "metadata": {
        "colab": {
          "base_uri": "https://localhost:8080/"
        },
        "id": "jrDlQ-cOBLCe",
        "outputId": "44394a1a-097d-445b-b0c2-20d577534ee4"
      },
      "execution_count": 49,
      "outputs": [
        {
          "output_type": "stream",
          "name": "stdout",
          "text": [
            "DT_GERACAO\n",
            "['01/08/2020'] \n",
            "\n",
            "\n",
            "HH_GERACAO\n",
            "['08:37:48'] \n",
            "\n",
            "\n",
            "ANO_ELEICAO\n",
            "[2020] \n",
            "\n",
            "\n",
            "SG_UF\n",
            "['SP' 'BA' 'MS' 'MG' 'PR' 'MA' 'GO' 'AL' 'MT' 'PB' 'TO' 'PA' 'PE' 'PI'\n",
            " 'ES' 'CE' 'RJ' 'RS' 'SC' 'RO' 'RN' 'SE' 'RR' 'AC' 'AM' 'AP'] \n",
            "\n",
            "\n",
            "CD_MUNICIPIO\n",
            "[70734 70750 35513 ... 20192 19089 11410] \n",
            "\n",
            "\n",
            "NM_MUNICIPIO\n",
            "['SÃO BENTO DO SAPUCAÍ' 'SÃO BERNARDO DO CAMPO' 'IBIPITANGA' ... 'EMAS'\n",
            " 'CUITÉ DE MAMANGUAPE' 'DOMINGOS MOURÃO'] \n",
            "\n",
            "\n",
            "CD_MUN_SIT_BIOMETRIA\n",
            "[0] \n",
            "\n",
            "\n",
            "DS_MUN_SIT_BIOMETRIA\n",
            "['Sem biometria'] \n",
            "\n",
            "\n",
            "NR_ZONA\n",
            "[314 174  65  40  64 197  17 121 302 195  97  98 103  31  47  50  19  38\n",
            "  34  33 123 240  79  27 237  99 146  30 106   6  25  49  21 386 266 208\n",
            "  53  13  26 158 261 409  74 102 101  29 343  95 168  46  37  58 202 144\n",
            "   4 324 414 128  36  28   5  93 130  55 143  66 135 164  83  63   7  90\n",
            " 175   1  78   3  14  76   8 317 406 340  44  68  22  15  57  96  45  32\n",
            " 193  12  11 328 167  16  73  52  35  18 150 124  39 145 147 107 127 110\n",
            "  41 136 318 152 134  80 282 194  67  56  48 126 188 411   9 141 125 287\n",
            "  77   2  60  87 131 200 303 115  94  69  72 336 132  62 111  51 105 220\n",
            " 114  91 329 301 149 278  10 222  61 279 198  23 410 179  43 137 227 129\n",
            " 181 120 184 118 166  89 300 255 153  81  24 100 117 201  42 248 140  54\n",
            "  88 178  59 109 170 156 148 171 334 113 243 207 138 162 173 232 219 224\n",
            " 112  71 176 139 119 196  84 182 247 142 186 320  82  20 280  70 218 206\n",
            " 288 225 122 253 169 347 161 319 348 371 172 372 216 275 104 351 331 389\n",
            " 259  92 390 190 116 294 382  86 177 217 426 221  85 270 213 250 396 160\n",
            "  75 358 183 257 163 155 187 333 375 339 404 420 369 298 398 309 405 421\n",
            " 289 352 252 267 133 151 244 313 360 159 242 235 400 307 205 291 239 311\n",
            " 262 230 226 335 286 189 332 271 327 377 342 368 211 214 233 415 180 383\n",
            " 350 108 422 263 264 265 223 229 293 251 306 212 326 276 292 260 322 185\n",
            " 268 272 316 273 192 249 338 228 277 315 269 256 283 345 325 285 234 246\n",
            " 154 290 199 157 165 297 308 231 241 341 391 284 203 356 362 359 312 427\n",
            " 245 412 258 296 388 379 416 380 236 204 402 274 281 310 346 191 254 305\n",
            " 370 209 424 210 299 321 374 384 392 397 413 376 403 401 417 330 238 423\n",
            " 344 353 399 295 323 381 378 215 361 373 385 395 408 407 349 387 418 393\n",
            " 394 355 304 365 367 419 354] \n",
            "\n",
            "\n",
            "CD_GENERO\n",
            "[4 0 2] \n",
            "\n",
            "\n",
            "DS_GENERO\n",
            "['FEMININO' 'NÃO INFORMADO' 'MASCULINO'] \n",
            "\n",
            "\n",
            "CD_ESTADO_CIVIL\n",
            "[3 5 7 9 0 1] \n",
            "\n",
            "\n",
            "DS_ESTADO_CIVIL\n",
            "['CASADO' 'VIÚVO' 'SEPARADO JUDICIALMENTE' 'DIVORCIADO' 'NÃO INFORMADO'\n",
            " 'SOLTEIRO'] \n",
            "\n",
            "\n",
            "CD_FAIXA_ETARIA\n",
            "[7074 7579 8084 8589 9094 9599 9999 3034 3539 4044 4549 5054 5559 6064\n",
            " 6569 2124 2529 1600 1700 1800 1900 2000   -3] \n",
            "\n",
            "\n",
            "DS_FAIXA_ETARIA\n",
            "['70 a 74 anos                  ' '75 a 79 anos                  '\n",
            " '80 a 84 anos                  ' '85 a 89 anos                  '\n",
            " '90 a 94 anos                  ' '95 a 99 anos                  '\n",
            " '100 anos ou mais              ' '30 a 34 anos                  '\n",
            " '35 a 39 anos                  ' '40 a 44 anos                  '\n",
            " '45 a 49 anos                  ' '50 a 54 anos                  '\n",
            " '55 a 59 anos                  ' '60 a 64 anos                  '\n",
            " '65 a 69 anos                  ' '21 a 24 anos                  '\n",
            " '25 a 29 anos                  ' '16 anos                       '\n",
            " '17 anos                       ' '18 anos                       '\n",
            " '19 anos                       ' '20 anos                       '\n",
            " 'Inválido                      '] \n",
            "\n",
            "\n",
            "CD_GRAU_ESCOLARIDADE\n",
            "[3 4 5 6 8 1 2 7 0] \n",
            "\n",
            "\n",
            "DS_GRAU_ESCOLARIDADE\n",
            "['ENSINO FUNDAMENTAL INCOMPLETO' 'ENSINO FUNDAMENTAL COMPLETO'\n",
            " 'ENSINO MÉDIO INCOMPLETO' 'ENSINO MÉDIO COMPLETO' 'SUPERIOR COMPLETO'\n",
            " 'ANALFABETO' 'LÊ E ESCREVE' 'SUPERIOR INCOMPLETO' 'NÃO INFORMADO'] \n",
            "\n",
            "\n",
            "QT_ELEITORES_PERFIL\n",
            "[  47    5    1 ... 2115 2417 2246] \n",
            "\n",
            "\n",
            "QT_ELEITORES_BIOMETRIA\n",
            "[  37    4    1 ... 2993 2158 2154] \n",
            "\n",
            "\n",
            "QT_ELEITORES_DEFICIENCIA\n",
            "[  1   0   2   3   7   4   6  11   5   8   9  16  23  13  17  10  29  38\n",
            "  18  12  21  14  25  24  39  15  20  22  56  34  79  37  27  51  32  19\n",
            "  84  61  60  26  48  31  40  57  41  35  47  45  28  42 121  50  76 105\n",
            "  49  77  33  75  36  90  44  30  80  52  95  82  59  58  78 126  43  93\n",
            "  88  86  66 135  46  54  68  65  85  70  55  67 110  53  62  83  92 213\n",
            " 217 144  69 103  97  96 108  64 173 112  73 111 118 123 164 109  91 107\n",
            " 119  81  63 383 133 312 207  89 137 233  74 290 154 101 117 127 140 194\n",
            " 282  98  99  72 243  87 210  71 226 182 100 132  94 251 139 104 148 196\n",
            " 115 130 187 162 122 142 151 113 204 278 186 168 152 120 114 358 289 129\n",
            " 106 116 143 145 276 205 166 138 230 131 161] \n",
            "\n",
            "\n",
            "QT_ELEITORES_INC_NM_SOCIAL\n",
            "[0 1 2 3 4 5 7 6] \n",
            "\n",
            "\n"
          ]
        }
      ]
    },
    {
      "cell_type": "markdown",
      "source": [
        "<br><br>\n",
        "\n",
        "---\n",
        "\n",
        "<br>\n",
        "\n",
        "# Análise da Base de dados - SP turno 1"
      ],
      "metadata": {
        "id": "KwwvgOnQGmqE"
      }
    },
    {
      "cell_type": "code",
      "source": [
        "file_sp_turno_1 = \"/content/drive/MyDrive/Colab Notebooks/renovabr/resultados/SP_turno_1.csv\""
      ],
      "metadata": {
        "id": "U11CXkLnGq2v"
      },
      "execution_count": null,
      "outputs": []
    }
  ],
  "metadata": {
    "colab": {
      "provenance": []
    },
    "kernelspec": {
      "display_name": "Python 3",
      "name": "python3"
    }
  },
  "nbformat": 4,
  "nbformat_minor": 0
}