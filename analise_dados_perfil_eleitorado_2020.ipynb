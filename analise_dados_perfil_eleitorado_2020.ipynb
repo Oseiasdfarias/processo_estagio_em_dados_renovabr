{
  "cells": [
    {
      "cell_type": "markdown",
      "source": [
        "# Análise da Base de dados perfil_eleitorado_2020"
      ],
      "metadata": {
        "id": "JhklrrpgFKF5"
      }
    },
    {
      "cell_type": "code",
      "source": [
        "from google.colab import drive\n",
        "drive.mount('/content/drive')"
      ],
      "metadata": {
        "id": "FuIz9PwT8aFO",
        "outputId": "b59002d3-fc6b-447b-bbcb-6b918953ad0b",
        "colab": {
          "base_uri": "https://localhost:8080/"
        }
      },
      "execution_count": 1,
      "outputs": [
        {
          "output_type": "stream",
          "name": "stdout",
          "text": [
            "Mounted at /content/drive\n"
          ]
        }
      ]
    },
    {
      "cell_type": "markdown",
      "source": [
        "## Bibliotecas importadas"
      ],
      "metadata": {
        "id": "5AuYKosRFHhN"
      }
    },
    {
      "cell_type": "code",
      "source": [
        "import pandas as pd"
      ],
      "metadata": {
        "id": "VUjysVNG84MS"
      },
      "execution_count": 2,
      "outputs": []
    },
    {
      "cell_type": "markdown",
      "source": [
        "## Carregando os dados do arquivo *perfil_eleitorado_2020.csv*"
      ],
      "metadata": {
        "id": "uk61oI3uAaS2"
      }
    },
    {
      "cell_type": "code",
      "source": [
        "filepath = \"/content/drive/MyDrive/Colab Notebooks/renovabr/eleitorado/perfil_eleitorado_2020/perfil_eleitorado_2020.csv\"\n",
        "df = pd.read_csv(filepath, sep=\";\", encoding='latin-1')"
      ],
      "metadata": {
        "id": "oWUPGL129GMB"
      },
      "execution_count": 3,
      "outputs": []
    },
    {
      "cell_type": "code",
      "source": [
        "df.info()"
      ],
      "metadata": {
        "id": "GUi6uu6M_qJU",
        "outputId": "e6a69d0b-6176-4718-d259-032a2f5666a4",
        "colab": {
          "base_uri": "https://localhost:8080/"
        }
      },
      "execution_count": 4,
      "outputs": [
        {
          "output_type": "stream",
          "name": "stdout",
          "text": [
            "<class 'pandas.core.frame.DataFrame'>\n",
            "RangeIndex: 4248507 entries, 0 to 4248506\n",
            "Data columns (total 21 columns):\n",
            " #   Column                      Dtype \n",
            "---  ------                      ----- \n",
            " 0   DT_GERACAO                  object\n",
            " 1   HH_GERACAO                  object\n",
            " 2   ANO_ELEICAO                 int64 \n",
            " 3   SG_UF                       object\n",
            " 4   CD_MUNICIPIO                int64 \n",
            " 5   NM_MUNICIPIO                object\n",
            " 6   CD_MUN_SIT_BIOMETRIA        int64 \n",
            " 7   DS_MUN_SIT_BIOMETRIA        object\n",
            " 8   NR_ZONA                     int64 \n",
            " 9   CD_GENERO                   int64 \n",
            " 10  DS_GENERO                   object\n",
            " 11  CD_ESTADO_CIVIL             int64 \n",
            " 12  DS_ESTADO_CIVIL             object\n",
            " 13  CD_FAIXA_ETARIA             int64 \n",
            " 14  DS_FAIXA_ETARIA             object\n",
            " 15  CD_GRAU_ESCOLARIDADE        int64 \n",
            " 16  DS_GRAU_ESCOLARIDADE        object\n",
            " 17  QT_ELEITORES_PERFIL         int64 \n",
            " 18  QT_ELEITORES_BIOMETRIA      int64 \n",
            " 19  QT_ELEITORES_DEFICIENCIA    int64 \n",
            " 20  QT_ELEITORES_INC_NM_SOCIAL  int64 \n",
            "dtypes: int64(12), object(9)\n",
            "memory usage: 680.7+ MB\n"
          ]
        }
      ]
    },
    {
      "cell_type": "code",
      "source": [
        "df.head()"
      ],
      "metadata": {
        "id": "KxacgYrw_xgz",
        "outputId": "ee25b48a-8024-400d-cab4-de5ca836d116",
        "colab": {
          "base_uri": "https://localhost:8080/",
          "height": 386
        }
      },
      "execution_count": 5,
      "outputs": [
        {
          "output_type": "execute_result",
          "data": {
            "text/plain": [
              "   DT_GERACAO HH_GERACAO  ANO_ELEICAO SG_UF  CD_MUNICIPIO  \\\n",
              "0  01/08/2020   08:37:48         2020    SP         70734   \n",
              "1  01/08/2020   08:37:48         2020    SP         70734   \n",
              "2  01/08/2020   08:37:48         2020    SP         70734   \n",
              "3  01/08/2020   08:37:48         2020    SP         70734   \n",
              "4  01/08/2020   08:37:48         2020    SP         70734   \n",
              "\n",
              "           NM_MUNICIPIO  CD_MUN_SIT_BIOMETRIA DS_MUN_SIT_BIOMETRIA  NR_ZONA  \\\n",
              "0  SÃO BENTO DO SAPUCAÍ                     0        Sem biometria      314   \n",
              "1  SÃO BENTO DO SAPUCAÍ                     0        Sem biometria      314   \n",
              "2  SÃO BENTO DO SAPUCAÍ                     0        Sem biometria      314   \n",
              "3  SÃO BENTO DO SAPUCAÍ                     0        Sem biometria      314   \n",
              "4  SÃO BENTO DO SAPUCAÍ                     0        Sem biometria      314   \n",
              "\n",
              "   CD_GENERO  ... CD_ESTADO_CIVIL  DS_ESTADO_CIVIL CD_FAIXA_ETARIA  \\\n",
              "0          4  ...               3           CASADO            7074   \n",
              "1          4  ...               3           CASADO            7074   \n",
              "2          4  ...               3           CASADO            7074   \n",
              "3          4  ...               3           CASADO            7074   \n",
              "4          4  ...               3           CASADO            7074   \n",
              "\n",
              "                  DS_FAIXA_ETARIA CD_GRAU_ESCOLARIDADE  \\\n",
              "0  70 a 74 anos                                      3   \n",
              "1  70 a 74 anos                                      4   \n",
              "2  70 a 74 anos                                      5   \n",
              "3  70 a 74 anos                                      6   \n",
              "4  70 a 74 anos                                      8   \n",
              "\n",
              "            DS_GRAU_ESCOLARIDADE QT_ELEITORES_PERFIL  QT_ELEITORES_BIOMETRIA  \\\n",
              "0  ENSINO FUNDAMENTAL INCOMPLETO                  47                      37   \n",
              "1    ENSINO FUNDAMENTAL COMPLETO                   5                       4   \n",
              "2        ENSINO MÉDIO INCOMPLETO                   1                       1   \n",
              "3          ENSINO MÉDIO COMPLETO                  10                       8   \n",
              "4              SUPERIOR COMPLETO                  23                      18   \n",
              "\n",
              "   QT_ELEITORES_DEFICIENCIA  QT_ELEITORES_INC_NM_SOCIAL  \n",
              "0                         1                           0  \n",
              "1                         0                           0  \n",
              "2                         0                           0  \n",
              "3                         0                           0  \n",
              "4                         0                           0  \n",
              "\n",
              "[5 rows x 21 columns]"
            ],
            "text/html": [
              "\n",
              "\n",
              "  <div id=\"df-811593e7-c210-4c9a-b5ca-ad1f1536612d\">\n",
              "    <div class=\"colab-df-container\">\n",
              "      <div>\n",
              "<style scoped>\n",
              "    .dataframe tbody tr th:only-of-type {\n",
              "        vertical-align: middle;\n",
              "    }\n",
              "\n",
              "    .dataframe tbody tr th {\n",
              "        vertical-align: top;\n",
              "    }\n",
              "\n",
              "    .dataframe thead th {\n",
              "        text-align: right;\n",
              "    }\n",
              "</style>\n",
              "<table border=\"1\" class=\"dataframe\">\n",
              "  <thead>\n",
              "    <tr style=\"text-align: right;\">\n",
              "      <th></th>\n",
              "      <th>DT_GERACAO</th>\n",
              "      <th>HH_GERACAO</th>\n",
              "      <th>ANO_ELEICAO</th>\n",
              "      <th>SG_UF</th>\n",
              "      <th>CD_MUNICIPIO</th>\n",
              "      <th>NM_MUNICIPIO</th>\n",
              "      <th>CD_MUN_SIT_BIOMETRIA</th>\n",
              "      <th>DS_MUN_SIT_BIOMETRIA</th>\n",
              "      <th>NR_ZONA</th>\n",
              "      <th>CD_GENERO</th>\n",
              "      <th>...</th>\n",
              "      <th>CD_ESTADO_CIVIL</th>\n",
              "      <th>DS_ESTADO_CIVIL</th>\n",
              "      <th>CD_FAIXA_ETARIA</th>\n",
              "      <th>DS_FAIXA_ETARIA</th>\n",
              "      <th>CD_GRAU_ESCOLARIDADE</th>\n",
              "      <th>DS_GRAU_ESCOLARIDADE</th>\n",
              "      <th>QT_ELEITORES_PERFIL</th>\n",
              "      <th>QT_ELEITORES_BIOMETRIA</th>\n",
              "      <th>QT_ELEITORES_DEFICIENCIA</th>\n",
              "      <th>QT_ELEITORES_INC_NM_SOCIAL</th>\n",
              "    </tr>\n",
              "  </thead>\n",
              "  <tbody>\n",
              "    <tr>\n",
              "      <th>0</th>\n",
              "      <td>01/08/2020</td>\n",
              "      <td>08:37:48</td>\n",
              "      <td>2020</td>\n",
              "      <td>SP</td>\n",
              "      <td>70734</td>\n",
              "      <td>SÃO BENTO DO SAPUCAÍ</td>\n",
              "      <td>0</td>\n",
              "      <td>Sem biometria</td>\n",
              "      <td>314</td>\n",
              "      <td>4</td>\n",
              "      <td>...</td>\n",
              "      <td>3</td>\n",
              "      <td>CASADO</td>\n",
              "      <td>7074</td>\n",
              "      <td>70 a 74 anos</td>\n",
              "      <td>3</td>\n",
              "      <td>ENSINO FUNDAMENTAL INCOMPLETO</td>\n",
              "      <td>47</td>\n",
              "      <td>37</td>\n",
              "      <td>1</td>\n",
              "      <td>0</td>\n",
              "    </tr>\n",
              "    <tr>\n",
              "      <th>1</th>\n",
              "      <td>01/08/2020</td>\n",
              "      <td>08:37:48</td>\n",
              "      <td>2020</td>\n",
              "      <td>SP</td>\n",
              "      <td>70734</td>\n",
              "      <td>SÃO BENTO DO SAPUCAÍ</td>\n",
              "      <td>0</td>\n",
              "      <td>Sem biometria</td>\n",
              "      <td>314</td>\n",
              "      <td>4</td>\n",
              "      <td>...</td>\n",
              "      <td>3</td>\n",
              "      <td>CASADO</td>\n",
              "      <td>7074</td>\n",
              "      <td>70 a 74 anos</td>\n",
              "      <td>4</td>\n",
              "      <td>ENSINO FUNDAMENTAL COMPLETO</td>\n",
              "      <td>5</td>\n",
              "      <td>4</td>\n",
              "      <td>0</td>\n",
              "      <td>0</td>\n",
              "    </tr>\n",
              "    <tr>\n",
              "      <th>2</th>\n",
              "      <td>01/08/2020</td>\n",
              "      <td>08:37:48</td>\n",
              "      <td>2020</td>\n",
              "      <td>SP</td>\n",
              "      <td>70734</td>\n",
              "      <td>SÃO BENTO DO SAPUCAÍ</td>\n",
              "      <td>0</td>\n",
              "      <td>Sem biometria</td>\n",
              "      <td>314</td>\n",
              "      <td>4</td>\n",
              "      <td>...</td>\n",
              "      <td>3</td>\n",
              "      <td>CASADO</td>\n",
              "      <td>7074</td>\n",
              "      <td>70 a 74 anos</td>\n",
              "      <td>5</td>\n",
              "      <td>ENSINO MÉDIO INCOMPLETO</td>\n",
              "      <td>1</td>\n",
              "      <td>1</td>\n",
              "      <td>0</td>\n",
              "      <td>0</td>\n",
              "    </tr>\n",
              "    <tr>\n",
              "      <th>3</th>\n",
              "      <td>01/08/2020</td>\n",
              "      <td>08:37:48</td>\n",
              "      <td>2020</td>\n",
              "      <td>SP</td>\n",
              "      <td>70734</td>\n",
              "      <td>SÃO BENTO DO SAPUCAÍ</td>\n",
              "      <td>0</td>\n",
              "      <td>Sem biometria</td>\n",
              "      <td>314</td>\n",
              "      <td>4</td>\n",
              "      <td>...</td>\n",
              "      <td>3</td>\n",
              "      <td>CASADO</td>\n",
              "      <td>7074</td>\n",
              "      <td>70 a 74 anos</td>\n",
              "      <td>6</td>\n",
              "      <td>ENSINO MÉDIO COMPLETO</td>\n",
              "      <td>10</td>\n",
              "      <td>8</td>\n",
              "      <td>0</td>\n",
              "      <td>0</td>\n",
              "    </tr>\n",
              "    <tr>\n",
              "      <th>4</th>\n",
              "      <td>01/08/2020</td>\n",
              "      <td>08:37:48</td>\n",
              "      <td>2020</td>\n",
              "      <td>SP</td>\n",
              "      <td>70734</td>\n",
              "      <td>SÃO BENTO DO SAPUCAÍ</td>\n",
              "      <td>0</td>\n",
              "      <td>Sem biometria</td>\n",
              "      <td>314</td>\n",
              "      <td>4</td>\n",
              "      <td>...</td>\n",
              "      <td>3</td>\n",
              "      <td>CASADO</td>\n",
              "      <td>7074</td>\n",
              "      <td>70 a 74 anos</td>\n",
              "      <td>8</td>\n",
              "      <td>SUPERIOR COMPLETO</td>\n",
              "      <td>23</td>\n",
              "      <td>18</td>\n",
              "      <td>0</td>\n",
              "      <td>0</td>\n",
              "    </tr>\n",
              "  </tbody>\n",
              "</table>\n",
              "<p>5 rows × 21 columns</p>\n",
              "</div>\n",
              "      <button class=\"colab-df-convert\" onclick=\"convertToInteractive('df-811593e7-c210-4c9a-b5ca-ad1f1536612d')\"\n",
              "              title=\"Convert this dataframe to an interactive table.\"\n",
              "              style=\"display:none;\">\n",
              "\n",
              "  <svg xmlns=\"http://www.w3.org/2000/svg\" height=\"24px\"viewBox=\"0 0 24 24\"\n",
              "       width=\"24px\">\n",
              "    <path d=\"M0 0h24v24H0V0z\" fill=\"none\"/>\n",
              "    <path d=\"M18.56 5.44l.94 2.06.94-2.06 2.06-.94-2.06-.94-.94-2.06-.94 2.06-2.06.94zm-11 1L8.5 8.5l.94-2.06 2.06-.94-2.06-.94L8.5 2.5l-.94 2.06-2.06.94zm10 10l.94 2.06.94-2.06 2.06-.94-2.06-.94-.94-2.06-.94 2.06-2.06.94z\"/><path d=\"M17.41 7.96l-1.37-1.37c-.4-.4-.92-.59-1.43-.59-.52 0-1.04.2-1.43.59L10.3 9.45l-7.72 7.72c-.78.78-.78 2.05 0 2.83L4 21.41c.39.39.9.59 1.41.59.51 0 1.02-.2 1.41-.59l7.78-7.78 2.81-2.81c.8-.78.8-2.07 0-2.86zM5.41 20L4 18.59l7.72-7.72 1.47 1.35L5.41 20z\"/>\n",
              "  </svg>\n",
              "      </button>\n",
              "\n",
              "\n",
              "\n",
              "    <div id=\"df-a192cf05-cde0-4669-bb5d-172e6d621be3\">\n",
              "      <button class=\"colab-df-quickchart\" onclick=\"quickchart('df-a192cf05-cde0-4669-bb5d-172e6d621be3')\"\n",
              "              title=\"Suggest charts.\"\n",
              "              style=\"display:none;\">\n",
              "\n",
              "<svg xmlns=\"http://www.w3.org/2000/svg\" height=\"24px\"viewBox=\"0 0 24 24\"\n",
              "     width=\"24px\">\n",
              "    <g>\n",
              "        <path d=\"M19 3H5c-1.1 0-2 .9-2 2v14c0 1.1.9 2 2 2h14c1.1 0 2-.9 2-2V5c0-1.1-.9-2-2-2zM9 17H7v-7h2v7zm4 0h-2V7h2v10zm4 0h-2v-4h2v4z\"/>\n",
              "    </g>\n",
              "</svg>\n",
              "      </button>\n",
              "    </div>\n",
              "\n",
              "<style>\n",
              "  .colab-df-quickchart {\n",
              "    background-color: #E8F0FE;\n",
              "    border: none;\n",
              "    border-radius: 50%;\n",
              "    cursor: pointer;\n",
              "    display: none;\n",
              "    fill: #1967D2;\n",
              "    height: 32px;\n",
              "    padding: 0 0 0 0;\n",
              "    width: 32px;\n",
              "  }\n",
              "\n",
              "  .colab-df-quickchart:hover {\n",
              "    background-color: #E2EBFA;\n",
              "    box-shadow: 0px 1px 2px rgba(60, 64, 67, 0.3), 0px 1px 3px 1px rgba(60, 64, 67, 0.15);\n",
              "    fill: #174EA6;\n",
              "  }\n",
              "\n",
              "  [theme=dark] .colab-df-quickchart {\n",
              "    background-color: #3B4455;\n",
              "    fill: #D2E3FC;\n",
              "  }\n",
              "\n",
              "  [theme=dark] .colab-df-quickchart:hover {\n",
              "    background-color: #434B5C;\n",
              "    box-shadow: 0px 1px 3px 1px rgba(0, 0, 0, 0.15);\n",
              "    filter: drop-shadow(0px 1px 2px rgba(0, 0, 0, 0.3));\n",
              "    fill: #FFFFFF;\n",
              "  }\n",
              "</style>\n",
              "\n",
              "    <script>\n",
              "      async function quickchart(key) {\n",
              "        const containerElement = document.querySelector('#' + key);\n",
              "        const charts = await google.colab.kernel.invokeFunction(\n",
              "            'suggestCharts', [key], {});\n",
              "      }\n",
              "    </script>\n",
              "\n",
              "      <script>\n",
              "\n",
              "function displayQuickchartButton(domScope) {\n",
              "  let quickchartButtonEl =\n",
              "    domScope.querySelector('#df-a192cf05-cde0-4669-bb5d-172e6d621be3 button.colab-df-quickchart');\n",
              "  quickchartButtonEl.style.display =\n",
              "    google.colab.kernel.accessAllowed ? 'block' : 'none';\n",
              "}\n",
              "\n",
              "        displayQuickchartButton(document);\n",
              "      </script>\n",
              "      <style>\n",
              "    .colab-df-container {\n",
              "      display:flex;\n",
              "      flex-wrap:wrap;\n",
              "      gap: 12px;\n",
              "    }\n",
              "\n",
              "    .colab-df-convert {\n",
              "      background-color: #E8F0FE;\n",
              "      border: none;\n",
              "      border-radius: 50%;\n",
              "      cursor: pointer;\n",
              "      display: none;\n",
              "      fill: #1967D2;\n",
              "      height: 32px;\n",
              "      padding: 0 0 0 0;\n",
              "      width: 32px;\n",
              "    }\n",
              "\n",
              "    .colab-df-convert:hover {\n",
              "      background-color: #E2EBFA;\n",
              "      box-shadow: 0px 1px 2px rgba(60, 64, 67, 0.3), 0px 1px 3px 1px rgba(60, 64, 67, 0.15);\n",
              "      fill: #174EA6;\n",
              "    }\n",
              "\n",
              "    [theme=dark] .colab-df-convert {\n",
              "      background-color: #3B4455;\n",
              "      fill: #D2E3FC;\n",
              "    }\n",
              "\n",
              "    [theme=dark] .colab-df-convert:hover {\n",
              "      background-color: #434B5C;\n",
              "      box-shadow: 0px 1px 3px 1px rgba(0, 0, 0, 0.15);\n",
              "      filter: drop-shadow(0px 1px 2px rgba(0, 0, 0, 0.3));\n",
              "      fill: #FFFFFF;\n",
              "    }\n",
              "  </style>\n",
              "\n",
              "      <script>\n",
              "        const buttonEl =\n",
              "          document.querySelector('#df-811593e7-c210-4c9a-b5ca-ad1f1536612d button.colab-df-convert');\n",
              "        buttonEl.style.display =\n",
              "          google.colab.kernel.accessAllowed ? 'block' : 'none';\n",
              "\n",
              "        async function convertToInteractive(key) {\n",
              "          const element = document.querySelector('#df-811593e7-c210-4c9a-b5ca-ad1f1536612d');\n",
              "          const dataTable =\n",
              "            await google.colab.kernel.invokeFunction('convertToInteractive',\n",
              "                                                     [key], {});\n",
              "          if (!dataTable) return;\n",
              "\n",
              "          const docLinkHtml = 'Like what you see? Visit the ' +\n",
              "            '<a target=\"_blank\" href=https://colab.research.google.com/notebooks/data_table.ipynb>data table notebook</a>'\n",
              "            + ' to learn more about interactive tables.';\n",
              "          element.innerHTML = '';\n",
              "          dataTable['output_type'] = 'display_data';\n",
              "          await google.colab.output.renderOutput(dataTable, element);\n",
              "          const docLink = document.createElement('div');\n",
              "          docLink.innerHTML = docLinkHtml;\n",
              "          element.appendChild(docLink);\n",
              "        }\n",
              "      </script>\n",
              "    </div>\n",
              "  </div>\n"
            ]
          },
          "metadata": {},
          "execution_count": 5
        }
      ]
    },
    {
      "cell_type": "markdown",
      "source": [
        "### Dimensões do DataFrame\n",
        "\n"
      ],
      "metadata": {
        "id": "WeBiAlcnCl0J"
      }
    },
    {
      "cell_type": "code",
      "source": [
        "df.shape"
      ],
      "metadata": {
        "colab": {
          "base_uri": "https://localhost:8080/"
        },
        "id": "n4SmOk2ACWON",
        "outputId": "8102dba4-b4dd-4323-a5e2-cd415660174c"
      },
      "execution_count": 7,
      "outputs": [
        {
          "output_type": "execute_result",
          "data": {
            "text/plain": [
              "(4248507, 21)"
            ]
          },
          "metadata": {},
          "execution_count": 7
        }
      ]
    },
    {
      "cell_type": "code",
      "source": [],
      "metadata": {
        "id": "B6r6zhVxEhKS"
      },
      "execution_count": null,
      "outputs": []
    },
    {
      "cell_type": "markdown",
      "source": [
        "<br><br>\n",
        "\n",
        "---\n",
        "\n",
        "<br>\n",
        "\n",
        "# Análise da Base de dados - SP turno 1"
      ],
      "metadata": {
        "id": "KwwvgOnQGmqE"
      }
    },
    {
      "cell_type": "code",
      "source": [
        "file_sp_turno_1 = \"/content/drive/MyDrive/Colab Notebooks/renovabr/resultados/SP_turno_1.csv\""
      ],
      "metadata": {
        "id": "U11CXkLnGq2v"
      },
      "execution_count": 9,
      "outputs": []
    }
  ],
  "metadata": {
    "colab": {
      "provenance": []
    },
    "kernelspec": {
      "display_name": "Python 3",
      "name": "python3"
    }
  },
  "nbformat": 4,
  "nbformat_minor": 0
}